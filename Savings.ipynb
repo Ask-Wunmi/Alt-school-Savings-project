{
 "cells": [
  {
   "cell_type": "code",
   "execution_count": 1,
   "id": "3d28c95d",
   "metadata": {},
   "outputs": [],
   "source": [
    "import pandas as pd\n",
    "import matplotlib\n",
    "import matplotlib.pyplot as plt\n",
    "import seaborn as sns"
   ]
  },
  {
   "cell_type": "code",
   "execution_count": 2,
   "id": "5762dbee",
   "metadata": {},
   "outputs": [
    {
     "data": {
      "text/html": [
       "<div>\n",
       "<style scoped>\n",
       "    .dataframe tbody tr th:only-of-type {\n",
       "        vertical-align: middle;\n",
       "    }\n",
       "\n",
       "    .dataframe tbody tr th {\n",
       "        vertical-align: top;\n",
       "    }\n",
       "\n",
       "    .dataframe thead th {\n",
       "        text-align: right;\n",
       "    }\n",
       "</style>\n",
       "<table border=\"1\" class=\"dataframe\">\n",
       "  <thead>\n",
       "    <tr style=\"text-align: right;\">\n",
       "      <th></th>\n",
       "      <th>Unnamed: 0</th>\n",
       "      <th>sav</th>\n",
       "      <th>inc</th>\n",
       "      <th>size</th>\n",
       "      <th>educ</th>\n",
       "      <th>age</th>\n",
       "      <th>black</th>\n",
       "      <th>cons</th>\n",
       "    </tr>\n",
       "  </thead>\n",
       "  <tbody>\n",
       "    <tr>\n",
       "      <th>0</th>\n",
       "      <td>1</td>\n",
       "      <td>30</td>\n",
       "      <td>1920</td>\n",
       "      <td>4</td>\n",
       "      <td>2</td>\n",
       "      <td>40</td>\n",
       "      <td>1</td>\n",
       "      <td>1890</td>\n",
       "    </tr>\n",
       "    <tr>\n",
       "      <th>1</th>\n",
       "      <td>2</td>\n",
       "      <td>874</td>\n",
       "      <td>12403</td>\n",
       "      <td>4</td>\n",
       "      <td>9</td>\n",
       "      <td>33</td>\n",
       "      <td>0</td>\n",
       "      <td>11529</td>\n",
       "    </tr>\n",
       "    <tr>\n",
       "      <th>2</th>\n",
       "      <td>3</td>\n",
       "      <td>370</td>\n",
       "      <td>6396</td>\n",
       "      <td>2</td>\n",
       "      <td>17</td>\n",
       "      <td>31</td>\n",
       "      <td>0</td>\n",
       "      <td>6026</td>\n",
       "    </tr>\n",
       "    <tr>\n",
       "      <th>3</th>\n",
       "      <td>4</td>\n",
       "      <td>1200</td>\n",
       "      <td>7005</td>\n",
       "      <td>3</td>\n",
       "      <td>9</td>\n",
       "      <td>50</td>\n",
       "      <td>0</td>\n",
       "      <td>5805</td>\n",
       "    </tr>\n",
       "    <tr>\n",
       "      <th>4</th>\n",
       "      <td>5</td>\n",
       "      <td>275</td>\n",
       "      <td>6990</td>\n",
       "      <td>4</td>\n",
       "      <td>12</td>\n",
       "      <td>28</td>\n",
       "      <td>0</td>\n",
       "      <td>6715</td>\n",
       "    </tr>\n",
       "  </tbody>\n",
       "</table>\n",
       "</div>"
      ],
      "text/plain": [
       "   Unnamed: 0   sav    inc  size  educ  age  black   cons\n",
       "0           1    30   1920     4     2   40      1   1890\n",
       "1           2   874  12403     4     9   33      0  11529\n",
       "2           3   370   6396     2    17   31      0   6026\n",
       "3           4  1200   7005     3     9   50      0   5805\n",
       "4           5   275   6990     4    12   28      0   6715"
      ]
     },
     "execution_count": 2,
     "metadata": {},
     "output_type": "execute_result"
    }
   ],
   "source": [
    "#reading the savings dataset\n",
    "\n",
    "df_savings= pd.read_csv('saving.csv')\n",
    "\n",
    "df_savings.head()"
   ]
  },
  {
   "cell_type": "code",
   "execution_count": 3,
   "id": "21a86136",
   "metadata": {},
   "outputs": [
    {
     "data": {
      "text/plain": [
       "(100, 8)"
      ]
     },
     "execution_count": 3,
     "metadata": {},
     "output_type": "execute_result"
    }
   ],
   "source": [
    "#checking the number of rows and columns of the dataset\n",
    "\n",
    "df_savings.shape"
   ]
  },
  {
   "cell_type": "code",
   "execution_count": 4,
   "id": "e064ad95",
   "metadata": {},
   "outputs": [
    {
     "data": {
      "text/plain": [
       "Index(['Unnamed: 0', 'sav', 'inc', 'size', 'educ', 'age', 'black', 'cons'], dtype='object')"
      ]
     },
     "execution_count": 4,
     "metadata": {},
     "output_type": "execute_result"
    }
   ],
   "source": [
    "#checking the column labels of the dataset\n",
    "\n",
    "df_savings.columns"
   ]
  },
  {
   "cell_type": "code",
   "execution_count": 5,
   "id": "ba9dbeca",
   "metadata": {},
   "outputs": [
    {
     "data": {
      "text/html": [
       "<div>\n",
       "<style scoped>\n",
       "    .dataframe tbody tr th:only-of-type {\n",
       "        vertical-align: middle;\n",
       "    }\n",
       "\n",
       "    .dataframe tbody tr th {\n",
       "        vertical-align: top;\n",
       "    }\n",
       "\n",
       "    .dataframe thead th {\n",
       "        text-align: right;\n",
       "    }\n",
       "</style>\n",
       "<table border=\"1\" class=\"dataframe\">\n",
       "  <thead>\n",
       "    <tr style=\"text-align: right;\">\n",
       "      <th></th>\n",
       "      <th>sav</th>\n",
       "      <th>inc</th>\n",
       "      <th>size</th>\n",
       "      <th>educ</th>\n",
       "      <th>age</th>\n",
       "      <th>black</th>\n",
       "      <th>cons</th>\n",
       "    </tr>\n",
       "  </thead>\n",
       "  <tbody>\n",
       "    <tr>\n",
       "      <th>0</th>\n",
       "      <td>30</td>\n",
       "      <td>1920</td>\n",
       "      <td>4</td>\n",
       "      <td>2</td>\n",
       "      <td>40</td>\n",
       "      <td>1</td>\n",
       "      <td>1890</td>\n",
       "    </tr>\n",
       "    <tr>\n",
       "      <th>1</th>\n",
       "      <td>874</td>\n",
       "      <td>12403</td>\n",
       "      <td>4</td>\n",
       "      <td>9</td>\n",
       "      <td>33</td>\n",
       "      <td>0</td>\n",
       "      <td>11529</td>\n",
       "    </tr>\n",
       "    <tr>\n",
       "      <th>2</th>\n",
       "      <td>370</td>\n",
       "      <td>6396</td>\n",
       "      <td>2</td>\n",
       "      <td>17</td>\n",
       "      <td>31</td>\n",
       "      <td>0</td>\n",
       "      <td>6026</td>\n",
       "    </tr>\n",
       "    <tr>\n",
       "      <th>3</th>\n",
       "      <td>1200</td>\n",
       "      <td>7005</td>\n",
       "      <td>3</td>\n",
       "      <td>9</td>\n",
       "      <td>50</td>\n",
       "      <td>0</td>\n",
       "      <td>5805</td>\n",
       "    </tr>\n",
       "    <tr>\n",
       "      <th>4</th>\n",
       "      <td>275</td>\n",
       "      <td>6990</td>\n",
       "      <td>4</td>\n",
       "      <td>12</td>\n",
       "      <td>28</td>\n",
       "      <td>0</td>\n",
       "      <td>6715</td>\n",
       "    </tr>\n",
       "  </tbody>\n",
       "</table>\n",
       "</div>"
      ],
      "text/plain": [
       "    sav    inc  size  educ  age  black   cons\n",
       "0    30   1920     4     2   40      1   1890\n",
       "1   874  12403     4     9   33      0  11529\n",
       "2   370   6396     2    17   31      0   6026\n",
       "3  1200   7005     3     9   50      0   5805\n",
       "4   275   6990     4    12   28      0   6715"
      ]
     },
     "execution_count": 5,
     "metadata": {},
     "output_type": "execute_result"
    }
   ],
   "source": [
    "#Dropping Unnamed: 0, it has no logical impact on the dataset\n",
    "\n",
    "df_savings1 = df_savings.drop('Unnamed: 0', axis=1)\n",
    "df_savings1.head()"
   ]
  },
  {
   "cell_type": "code",
   "execution_count": 57,
   "id": "ef3595b7",
   "metadata": {},
   "outputs": [
    {
     "data": {
      "text/html": [
       "<div>\n",
       "<style scoped>\n",
       "    .dataframe tbody tr th:only-of-type {\n",
       "        vertical-align: middle;\n",
       "    }\n",
       "\n",
       "    .dataframe tbody tr th {\n",
       "        vertical-align: top;\n",
       "    }\n",
       "\n",
       "    .dataframe thead th {\n",
       "        text-align: right;\n",
       "    }\n",
       "</style>\n",
       "<table border=\"1\" class=\"dataframe\">\n",
       "  <thead>\n",
       "    <tr style=\"text-align: right;\">\n",
       "      <th></th>\n",
       "      <th>sav</th>\n",
       "      <th>inc</th>\n",
       "      <th>size</th>\n",
       "      <th>educ</th>\n",
       "      <th>age</th>\n",
       "      <th>black</th>\n",
       "      <th>cons</th>\n",
       "      <th>Twenty_percnt_Sav</th>\n",
       "    </tr>\n",
       "  </thead>\n",
       "  <tbody>\n",
       "    <tr>\n",
       "      <th>0</th>\n",
       "      <td>30</td>\n",
       "      <td>1920</td>\n",
       "      <td>4</td>\n",
       "      <td>2</td>\n",
       "      <td>40</td>\n",
       "      <td>1</td>\n",
       "      <td>1890</td>\n",
       "      <td>384.0</td>\n",
       "    </tr>\n",
       "    <tr>\n",
       "      <th>1</th>\n",
       "      <td>874</td>\n",
       "      <td>12403</td>\n",
       "      <td>4</td>\n",
       "      <td>9</td>\n",
       "      <td>33</td>\n",
       "      <td>0</td>\n",
       "      <td>11529</td>\n",
       "      <td>2480.6</td>\n",
       "    </tr>\n",
       "    <tr>\n",
       "      <th>2</th>\n",
       "      <td>370</td>\n",
       "      <td>6396</td>\n",
       "      <td>2</td>\n",
       "      <td>17</td>\n",
       "      <td>31</td>\n",
       "      <td>0</td>\n",
       "      <td>6026</td>\n",
       "      <td>1279.2</td>\n",
       "    </tr>\n",
       "    <tr>\n",
       "      <th>3</th>\n",
       "      <td>1200</td>\n",
       "      <td>7005</td>\n",
       "      <td>3</td>\n",
       "      <td>9</td>\n",
       "      <td>50</td>\n",
       "      <td>0</td>\n",
       "      <td>5805</td>\n",
       "      <td>1401.0</td>\n",
       "    </tr>\n",
       "    <tr>\n",
       "      <th>4</th>\n",
       "      <td>275</td>\n",
       "      <td>6990</td>\n",
       "      <td>4</td>\n",
       "      <td>12</td>\n",
       "      <td>28</td>\n",
       "      <td>0</td>\n",
       "      <td>6715</td>\n",
       "      <td>1398.0</td>\n",
       "    </tr>\n",
       "    <tr>\n",
       "      <th>...</th>\n",
       "      <td>...</td>\n",
       "      <td>...</td>\n",
       "      <td>...</td>\n",
       "      <td>...</td>\n",
       "      <td>...</td>\n",
       "      <td>...</td>\n",
       "      <td>...</td>\n",
       "      <td>...</td>\n",
       "    </tr>\n",
       "    <tr>\n",
       "      <th>93</th>\n",
       "      <td>720</td>\n",
       "      <td>14963</td>\n",
       "      <td>4</td>\n",
       "      <td>12</td>\n",
       "      <td>46</td>\n",
       "      <td>0</td>\n",
       "      <td>14243</td>\n",
       "      <td>2992.6</td>\n",
       "    </tr>\n",
       "    <tr>\n",
       "      <th>94</th>\n",
       "      <td>5109</td>\n",
       "      <td>10060</td>\n",
       "      <td>4</td>\n",
       "      <td>16</td>\n",
       "      <td>50</td>\n",
       "      <td>0</td>\n",
       "      <td>4951</td>\n",
       "      <td>2012.0</td>\n",
       "    </tr>\n",
       "    <tr>\n",
       "      <th>96</th>\n",
       "      <td>1684</td>\n",
       "      <td>9260</td>\n",
       "      <td>5</td>\n",
       "      <td>12</td>\n",
       "      <td>31</td>\n",
       "      <td>0</td>\n",
       "      <td>7576</td>\n",
       "      <td>1852.0</td>\n",
       "    </tr>\n",
       "    <tr>\n",
       "      <th>97</th>\n",
       "      <td>1475</td>\n",
       "      <td>10450</td>\n",
       "      <td>2</td>\n",
       "      <td>18</td>\n",
       "      <td>27</td>\n",
       "      <td>0</td>\n",
       "      <td>8975</td>\n",
       "      <td>2090.0</td>\n",
       "    </tr>\n",
       "    <tr>\n",
       "      <th>98</th>\n",
       "      <td>566</td>\n",
       "      <td>9138</td>\n",
       "      <td>5</td>\n",
       "      <td>12</td>\n",
       "      <td>40</td>\n",
       "      <td>0</td>\n",
       "      <td>8572</td>\n",
       "      <td>1827.6</td>\n",
       "    </tr>\n",
       "  </tbody>\n",
       "</table>\n",
       "<p>93 rows × 8 columns</p>\n",
       "</div>"
      ],
      "text/plain": [
       "     sav    inc  size  educ  age  black   cons  Twenty_percnt_Sav\n",
       "0     30   1920     4     2   40      1   1890              384.0\n",
       "1    874  12403     4     9   33      0  11529             2480.6\n",
       "2    370   6396     2    17   31      0   6026             1279.2\n",
       "3   1200   7005     3     9   50      0   5805             1401.0\n",
       "4    275   6990     4    12   28      0   6715             1398.0\n",
       "..   ...    ...   ...   ...  ...    ...    ...                ...\n",
       "93   720  14963     4    12   46      0  14243             2992.6\n",
       "94  5109  10060     4    16   50      0   4951             2012.0\n",
       "96  1684   9260     5    12   31      0   7576             1852.0\n",
       "97  1475  10450     2    18   27      0   8975             2090.0\n",
       "98   566   9138     5    12   40      0   8572             1827.6\n",
       "\n",
       "[93 rows x 8 columns]"
      ]
     },
     "execution_count": 57,
     "metadata": {},
     "output_type": "execute_result"
    }
   ],
   "source": [
    "#Testing the 20% saving rule\n",
    "\n",
    "expected_savings = data_savings.assign(Twenty_percnt_Sav =lambda x: x.inc*0.2)\n",
    "\n",
    "expected_savings.head()\n",
    "\n",
    "#none of the correspondent follows the 20% savings rule, most saved below 20% while very few saved above 20%"
   ]
  },
  {
   "cell_type": "markdown",
   "id": "01a31a6e",
   "metadata": {},
   "source": [
    "# Questions"
   ]
  },
  {
   "cell_type": "code",
   "execution_count": 6,
   "id": "27b85874",
   "metadata": {},
   "outputs": [],
   "source": [
    "#do people who earn more money have more savings ? \n",
    "#Does Educational level influence how much people earn and how they save \n",
    "#Does family Size influence saving culture\n",
    "#Are there any correlation between race and income ? \n",
    "#Does race as any impact on savings "
   ]
  },
  {
   "cell_type": "code",
   "execution_count": 7,
   "id": "00225aa5",
   "metadata": {},
   "outputs": [
    {
     "data": {
      "text/plain": [
       "count    100.000000\n",
       "mean      38.770000\n",
       "std        7.398956\n",
       "min       26.000000\n",
       "25%       33.000000\n",
       "50%       38.500000\n",
       "75%       44.000000\n",
       "max       54.000000\n",
       "Name: age, dtype: float64"
      ]
     },
     "execution_count": 7,
     "metadata": {},
     "output_type": "execute_result"
    }
   ],
   "source": [
    "df_savings1['age'].describe()"
   ]
  },
  {
   "cell_type": "code",
   "execution_count": 8,
   "id": "3f0aee7b",
   "metadata": {},
   "outputs": [
    {
     "data": {
      "text/plain": [
       "<AxesSubplot:xlabel='age'>"
      ]
     },
     "execution_count": 8,
     "metadata": {},
     "output_type": "execute_result"
    },
    {
     "data": {
      "image/png": "[encoded data removed]",
      "text/plain": [
       "<Figure size 640x480 with 1 Axes>"
      ]
     },
     "metadata": {},
     "output_type": "display_data"
    }
   ],
   "source": [
    "#checking for Outliers \n",
    "#The respondents are within the same age range\n",
    "\n",
    "sns.boxplot(data=df_savings1,x='age')"
   ]
  },
  {
   "cell_type": "markdown",
   "id": "4123a7ff",
   "metadata": {},
   "source": [
    "The analysis below will be testing the following:\n",
    " 1. Do people who earn more money have more savings \n",
    " 2. Are there any correlation between race and income ? \n",
    " 3. Does race have any impact on savings"
   ]
  },
  {
   "cell_type": "code",
   "execution_count": 10,
   "id": "cc907c2f",
   "metadata": {},
   "outputs": [
    {
     "data": {
      "text/plain": [
       "count      100.000000\n",
       "mean      9941.240000\n",
       "std       5583.998057\n",
       "min        750.000000\n",
       "25%       6510.000000\n",
       "50%       8776.500000\n",
       "75%      11903.000000\n",
       "max      32080.000000\n",
       "Name: inc, dtype: float64"
      ]
     },
     "execution_count": 10,
     "metadata": {},
     "output_type": "execute_result"
    }
   ],
   "source": [
    "#checking for average salary earned. mean\n",
    "#the median salary, which is the 50%\n",
    "\n",
    "df_savings1['inc'].describe()\n"
   ]
  },
  {
   "cell_type": "code",
   "execution_count": 11,
   "id": "554b76c6",
   "metadata": {},
   "outputs": [],
   "source": [
    "#The desribe method above shows very high income earners, this high income earners are outside the average income of the sample size(these are outliers) "
   ]
  },
  {
   "cell_type": "code",
   "execution_count": 12,
   "id": "fe305653",
   "metadata": {},
   "outputs": [
    {
     "data": {
      "text/plain": [
       "<AxesSubplot:xlabel='inc'>"
      ]
     },
     "execution_count": 12,
     "metadata": {},
     "output_type": "execute_result"
    },
    {
     "data": {
      "image/png": "[encoded data removed]",
      "text/plain": [
       "<Figure size 640x480 with 1 Axes>"
      ]
     },
     "metadata": {},
     "output_type": "display_data"
    }
   ],
   "source": [
    "#checking for Outliers \n",
    "\n",
    "sns.boxplot(data=df_savings1,x='inc')\n",
    "\n",
    "#there are outliers in the income column, i.e there are people that earns very high income, we will be checking the saving culture of this high earners"
   ]
  },
  {
   "cell_type": "code",
   "execution_count": 13,
   "id": "63ed52d5",
   "metadata": {},
   "outputs": [
    {
     "data": {
      "text/plain": [
       "<seaborn.axisgrid.FacetGrid at 0x1f41fe065e0>"
      ]
     },
     "execution_count": 13,
     "metadata": {},
     "output_type": "execute_result"
    },
    {
     "data": {
      "image/png": "[encoded data removed]",
      "text/plain": [
       "<Figure size 500x500 with 1 Axes>"
      ]
     },
     "metadata": {},
     "output_type": "display_data"
    }
   ],
   "source": [
    "sns.displot(data=df_savings1, x='inc', kde=False) #distribution plot"
   ]
  },
  {
   "cell_type": "code",
   "execution_count": 14,
   "id": "bd97705d",
   "metadata": {},
   "outputs": [],
   "source": [
    "#The distribution above shows 5 people within the dataset earns 20,000-30000\n",
    "# The impact of this earning is going to be tested against their saving and consumption culture"
   ]
  },
  {
   "cell_type": "code",
   "execution_count": 16,
   "id": "414f268f",
   "metadata": {},
   "outputs": [
    {
     "data": {
      "text/plain": [
       "<AxesSubplot:xlabel='inc', ylabel='sav'>"
      ]
     },
     "execution_count": 16,
     "metadata": {},
     "output_type": "execute_result"
    },
    {
     "data": {
      "image/png": "[encoded data removed]",
      "text/plain": [
       "<Figure size 640x480 with 1 Axes>"
      ]
     },
     "metadata": {},
     "output_type": "display_data"
    }
   ],
   "source": [
    "sns.scatterplot(data=df_savings1, x='inc', y='sav', hue='black')"
   ]
  },
  {
   "cell_type": "code",
   "execution_count": 17,
   "id": "f2ceed90",
   "metadata": {},
   "outputs": [
    {
     "data": {
      "text/html": [
       "<div>\n",
       "<style scoped>\n",
       "    .dataframe tbody tr th:only-of-type {\n",
       "        vertical-align: middle;\n",
       "    }\n",
       "\n",
       "    .dataframe tbody tr th {\n",
       "        vertical-align: top;\n",
       "    }\n",
       "\n",
       "    .dataframe thead th {\n",
       "        text-align: right;\n",
       "    }\n",
       "</style>\n",
       "<table border=\"1\" class=\"dataframe\">\n",
       "  <thead>\n",
       "    <tr style=\"text-align: right;\">\n",
       "      <th></th>\n",
       "      <th>sav</th>\n",
       "      <th>inc</th>\n",
       "      <th>size</th>\n",
       "      <th>educ</th>\n",
       "      <th>age</th>\n",
       "      <th>black</th>\n",
       "      <th>cons</th>\n",
       "    </tr>\n",
       "  </thead>\n",
       "  <tbody>\n",
       "    <tr>\n",
       "      <th>95</th>\n",
       "      <td>1800</td>\n",
       "      <td>32080</td>\n",
       "      <td>2</td>\n",
       "      <td>16</td>\n",
       "      <td>54</td>\n",
       "      <td>0</td>\n",
       "      <td>30280</td>\n",
       "    </tr>\n",
       "    <tr>\n",
       "      <th>96</th>\n",
       "      <td>1684</td>\n",
       "      <td>9260</td>\n",
       "      <td>5</td>\n",
       "      <td>12</td>\n",
       "      <td>31</td>\n",
       "      <td>0</td>\n",
       "      <td>7576</td>\n",
       "    </tr>\n",
       "    <tr>\n",
       "      <th>97</th>\n",
       "      <td>1475</td>\n",
       "      <td>10450</td>\n",
       "      <td>2</td>\n",
       "      <td>18</td>\n",
       "      <td>27</td>\n",
       "      <td>0</td>\n",
       "      <td>8975</td>\n",
       "    </tr>\n",
       "    <tr>\n",
       "      <th>98</th>\n",
       "      <td>566</td>\n",
       "      <td>9138</td>\n",
       "      <td>5</td>\n",
       "      <td>12</td>\n",
       "      <td>40</td>\n",
       "      <td>0</td>\n",
       "      <td>8572</td>\n",
       "    </tr>\n",
       "    <tr>\n",
       "      <th>99</th>\n",
       "      <td>25405</td>\n",
       "      <td>12350</td>\n",
       "      <td>6</td>\n",
       "      <td>18</td>\n",
       "      <td>34</td>\n",
       "      <td>0</td>\n",
       "      <td>-13055</td>\n",
       "    </tr>\n",
       "  </tbody>\n",
       "</table>\n",
       "</div>"
      ],
      "text/plain": [
       "      sav    inc  size  educ  age  black   cons\n",
       "95   1800  32080     2    16   54      0  30280\n",
       "96   1684   9260     5    12   31      0   7576\n",
       "97   1475  10450     2    18   27      0   8975\n",
       "98    566   9138     5    12   40      0   8572\n",
       "99  25405  12350     6    18   34      0 -13055"
      ]
     },
     "execution_count": 17,
     "metadata": {},
     "output_type": "execute_result"
    }
   ],
   "source": [
    "df_savings1.tail()"
   ]
  },
  {
   "cell_type": "code",
   "execution_count": 18,
   "id": "52b0f31b",
   "metadata": {},
   "outputs": [],
   "source": [
    "#The scatterd plot visualisation above showed an anomaly in row 99 of the sample size, the respondent made an annual income of 12350 and saved 25405, no logical explation was given in the documentaion for this anomaly\n",
    "#The scattered Plot also showed that the saving culture of the family whose head is black is not different from the other race\n",
    "# Race has no visible effect on savings\n",
    "#A total of 5 person earned between 20000-30000 (The outlier 20000-30000),this people earned more but saves around the same amount to those than earned lower\n"
   ]
  },
  {
   "cell_type": "code",
   "execution_count": 26,
   "id": "d9d7c242",
   "metadata": {},
   "outputs": [
    {
     "data": {
      "text/html": [
       "<div>\n",
       "<style scoped>\n",
       "    .dataframe tbody tr th:only-of-type {\n",
       "        vertical-align: middle;\n",
       "    }\n",
       "\n",
       "    .dataframe tbody tr th {\n",
       "        vertical-align: top;\n",
       "    }\n",
       "\n",
       "    .dataframe thead th {\n",
       "        text-align: right;\n",
       "    }\n",
       "</style>\n",
       "<table border=\"1\" class=\"dataframe\">\n",
       "  <thead>\n",
       "    <tr style=\"text-align: right;\">\n",
       "      <th></th>\n",
       "      <th>sav</th>\n",
       "      <th>inc</th>\n",
       "      <th>size</th>\n",
       "      <th>educ</th>\n",
       "      <th>age</th>\n",
       "      <th>black</th>\n",
       "      <th>cons</th>\n",
       "    </tr>\n",
       "  </thead>\n",
       "  <tbody>\n",
       "    <tr>\n",
       "      <th>0</th>\n",
       "      <td>30</td>\n",
       "      <td>1920</td>\n",
       "      <td>4</td>\n",
       "      <td>2</td>\n",
       "      <td>40</td>\n",
       "      <td>1</td>\n",
       "      <td>1890</td>\n",
       "    </tr>\n",
       "    <tr>\n",
       "      <th>1</th>\n",
       "      <td>874</td>\n",
       "      <td>12403</td>\n",
       "      <td>4</td>\n",
       "      <td>9</td>\n",
       "      <td>33</td>\n",
       "      <td>0</td>\n",
       "      <td>11529</td>\n",
       "    </tr>\n",
       "    <tr>\n",
       "      <th>2</th>\n",
       "      <td>370</td>\n",
       "      <td>6396</td>\n",
       "      <td>2</td>\n",
       "      <td>17</td>\n",
       "      <td>31</td>\n",
       "      <td>0</td>\n",
       "      <td>6026</td>\n",
       "    </tr>\n",
       "    <tr>\n",
       "      <th>3</th>\n",
       "      <td>1200</td>\n",
       "      <td>7005</td>\n",
       "      <td>3</td>\n",
       "      <td>9</td>\n",
       "      <td>50</td>\n",
       "      <td>0</td>\n",
       "      <td>5805</td>\n",
       "    </tr>\n",
       "    <tr>\n",
       "      <th>4</th>\n",
       "      <td>275</td>\n",
       "      <td>6990</td>\n",
       "      <td>4</td>\n",
       "      <td>12</td>\n",
       "      <td>28</td>\n",
       "      <td>0</td>\n",
       "      <td>6715</td>\n",
       "    </tr>\n",
       "    <tr>\n",
       "      <th>...</th>\n",
       "      <td>...</td>\n",
       "      <td>...</td>\n",
       "      <td>...</td>\n",
       "      <td>...</td>\n",
       "      <td>...</td>\n",
       "      <td>...</td>\n",
       "      <td>...</td>\n",
       "    </tr>\n",
       "    <tr>\n",
       "      <th>95</th>\n",
       "      <td>1800</td>\n",
       "      <td>32080</td>\n",
       "      <td>2</td>\n",
       "      <td>16</td>\n",
       "      <td>54</td>\n",
       "      <td>0</td>\n",
       "      <td>30280</td>\n",
       "    </tr>\n",
       "    <tr>\n",
       "      <th>96</th>\n",
       "      <td>1684</td>\n",
       "      <td>9260</td>\n",
       "      <td>5</td>\n",
       "      <td>12</td>\n",
       "      <td>31</td>\n",
       "      <td>0</td>\n",
       "      <td>7576</td>\n",
       "    </tr>\n",
       "    <tr>\n",
       "      <th>97</th>\n",
       "      <td>1475</td>\n",
       "      <td>10450</td>\n",
       "      <td>2</td>\n",
       "      <td>18</td>\n",
       "      <td>27</td>\n",
       "      <td>0</td>\n",
       "      <td>8975</td>\n",
       "    </tr>\n",
       "    <tr>\n",
       "      <th>98</th>\n",
       "      <td>566</td>\n",
       "      <td>9138</td>\n",
       "      <td>5</td>\n",
       "      <td>12</td>\n",
       "      <td>40</td>\n",
       "      <td>0</td>\n",
       "      <td>8572</td>\n",
       "    </tr>\n",
       "    <tr>\n",
       "      <th>99</th>\n",
       "      <td>25405</td>\n",
       "      <td>12350</td>\n",
       "      <td>6</td>\n",
       "      <td>18</td>\n",
       "      <td>34</td>\n",
       "      <td>0</td>\n",
       "      <td>-13055</td>\n",
       "    </tr>\n",
       "  </tbody>\n",
       "</table>\n",
       "<p>100 rows × 7 columns</p>\n",
       "</div>"
      ],
      "text/plain": [
       "      sav    inc  size  educ  age  black   cons\n",
       "0      30   1920     4     2   40      1   1890\n",
       "1     874  12403     4     9   33      0  11529\n",
       "2     370   6396     2    17   31      0   6026\n",
       "3    1200   7005     3     9   50      0   5805\n",
       "4     275   6990     4    12   28      0   6715\n",
       "..    ...    ...   ...   ...  ...    ...    ...\n",
       "95   1800  32080     2    16   54      0  30280\n",
       "96   1684   9260     5    12   31      0   7576\n",
       "97   1475  10450     2    18   27      0   8975\n",
       "98    566   9138     5    12   40      0   8572\n",
       "99  25405  12350     6    18   34      0 -13055\n",
       "\n",
       "[100 rows x 7 columns]"
      ]
     },
     "execution_count": 26,
     "metadata": {},
     "output_type": "execute_result"
    }
   ],
   "source": [
    "df_savings2= df_savings1.copy()\n",
    "df_savings2"
   ]
  },
  {
   "cell_type": "code",
   "execution_count": 53,
   "id": "db06f9dd",
   "metadata": {
    "scrolled": true
   },
   "outputs": [
    {
     "data": {
      "text/html": [
       "<div>\n",
       "<style scoped>\n",
       "    .dataframe tbody tr th:only-of-type {\n",
       "        vertical-align: middle;\n",
       "    }\n",
       "\n",
       "    .dataframe tbody tr th {\n",
       "        vertical-align: top;\n",
       "    }\n",
       "\n",
       "    .dataframe thead th {\n",
       "        text-align: right;\n",
       "    }\n",
       "</style>\n",
       "<table border=\"1\" class=\"dataframe\">\n",
       "  <thead>\n",
       "    <tr style=\"text-align: right;\">\n",
       "      <th></th>\n",
       "      <th>sav</th>\n",
       "      <th>inc</th>\n",
       "      <th>size</th>\n",
       "      <th>educ</th>\n",
       "      <th>age</th>\n",
       "      <th>black</th>\n",
       "      <th>cons</th>\n",
       "    </tr>\n",
       "  </thead>\n",
       "  <tbody>\n",
       "    <tr>\n",
       "      <th>0</th>\n",
       "      <td>30</td>\n",
       "      <td>1920</td>\n",
       "      <td>4</td>\n",
       "      <td>2</td>\n",
       "      <td>40</td>\n",
       "      <td>1</td>\n",
       "      <td>1890</td>\n",
       "    </tr>\n",
       "    <tr>\n",
       "      <th>1</th>\n",
       "      <td>874</td>\n",
       "      <td>12403</td>\n",
       "      <td>4</td>\n",
       "      <td>9</td>\n",
       "      <td>33</td>\n",
       "      <td>0</td>\n",
       "      <td>11529</td>\n",
       "    </tr>\n",
       "    <tr>\n",
       "      <th>2</th>\n",
       "      <td>370</td>\n",
       "      <td>6396</td>\n",
       "      <td>2</td>\n",
       "      <td>17</td>\n",
       "      <td>31</td>\n",
       "      <td>0</td>\n",
       "      <td>6026</td>\n",
       "    </tr>\n",
       "    <tr>\n",
       "      <th>3</th>\n",
       "      <td>1200</td>\n",
       "      <td>7005</td>\n",
       "      <td>3</td>\n",
       "      <td>9</td>\n",
       "      <td>50</td>\n",
       "      <td>0</td>\n",
       "      <td>5805</td>\n",
       "    </tr>\n",
       "    <tr>\n",
       "      <th>4</th>\n",
       "      <td>275</td>\n",
       "      <td>6990</td>\n",
       "      <td>4</td>\n",
       "      <td>12</td>\n",
       "      <td>28</td>\n",
       "      <td>0</td>\n",
       "      <td>6715</td>\n",
       "    </tr>\n",
       "  </tbody>\n",
       "</table>\n",
       "</div>"
      ],
      "text/plain": [
       "    sav    inc  size  educ  age  black   cons\n",
       "0    30   1920     4     2   40      1   1890\n",
       "1   874  12403     4     9   33      0  11529\n",
       "2   370   6396     2    17   31      0   6026\n",
       "3  1200   7005     3     9   50      0   5805\n",
       "4   275   6990     4    12   28      0   6715"
      ]
     },
     "execution_count": 53,
     "metadata": {},
     "output_type": "execute_result"
    }
   ],
   "source": [
    "#rows with negative cons (consumption value will be dropped, as we have no justification how they were able to save more than their income)\n",
    "df_savings3 = df_savings2.drop([67,99])\n",
    "\n",
    "#row 67 and 99 was dropped because of the anomaly in the record\n",
    "df_savings3.head()"
   ]
  },
  {
   "cell_type": "code",
   "execution_count": 31,
   "id": "25aa1993",
   "metadata": {},
   "outputs": [],
   "source": [
    "#Tukey's rule\n",
    "#Q1-1.5*IQR - Lower limit\n",
    "#Q3 + 1.5*IQR - upper limit\n",
    "\n",
    "#The Tukey's rule will be applied to try to eliminate the Outliers in the income column"
   ]
  },
  {
   "cell_type": "code",
   "execution_count": 39,
   "id": "e8fc10ac",
   "metadata": {},
   "outputs": [],
   "source": [
    "Q1= df_savings3['inc'].quantile(.25)\n",
    "Q3= df_savings3['inc'].quantile(.75)\n",
    "IQR= Q3-Q1"
   ]
  },
  {
   "cell_type": "code",
   "execution_count": 33,
   "id": "371d1e32",
   "metadata": {},
   "outputs": [
    {
     "data": {
      "text/plain": [
       "5393.0"
      ]
     },
     "execution_count": 33,
     "metadata": {},
     "output_type": "execute_result"
    }
   ],
   "source": [
    "IQR"
   ]
  },
  {
   "cell_type": "code",
   "execution_count": 34,
   "id": "56bb2ca8",
   "metadata": {},
   "outputs": [],
   "source": [
    "lower_limit = Q1- 1.5* IQR\n",
    "upper_limit= Q3 + 1.5* IQR "
   ]
  },
  {
   "cell_type": "code",
   "execution_count": 35,
   "id": "875d9333",
   "metadata": {},
   "outputs": [
    {
     "data": {
      "text/plain": [
       "-1579.5"
      ]
     },
     "execution_count": 35,
     "metadata": {},
     "output_type": "execute_result"
    }
   ],
   "source": [
    "lower_limit"
   ]
  },
  {
   "cell_type": "code",
   "execution_count": 36,
   "id": "123c8ad9",
   "metadata": {},
   "outputs": [
    {
     "data": {
      "text/plain": [
       "19992.5"
      ]
     },
     "execution_count": 36,
     "metadata": {},
     "output_type": "execute_result"
    }
   ],
   "source": [
    "upper_limit"
   ]
  },
  {
   "cell_type": "code",
   "execution_count": 41,
   "id": "0628ce90",
   "metadata": {},
   "outputs": [],
   "source": [
    "outlier_upper =(df_savings3['inc']> upper_limit)"
   ]
  },
  {
   "cell_type": "code",
   "execution_count": 42,
   "id": "a3c0b14c",
   "metadata": {},
   "outputs": [
    {
     "data": {
      "text/plain": [
       "0     False\n",
       "1     False\n",
       "2     False\n",
       "3     False\n",
       "4     False\n",
       "      ...  \n",
       "94    False\n",
       "95     True\n",
       "96    False\n",
       "97    False\n",
       "98    False\n",
       "Name: inc, Length: 98, dtype: bool"
      ]
     },
     "execution_count": 42,
     "metadata": {},
     "output_type": "execute_result"
    }
   ],
   "source": [
    "outlier_upper"
   ]
  },
  {
   "cell_type": "code",
   "execution_count": 43,
   "id": "75e5bab8",
   "metadata": {},
   "outputs": [
    {
     "data": {
      "text/plain": [
       "93"
      ]
     },
     "execution_count": 43,
     "metadata": {},
     "output_type": "execute_result"
    }
   ],
   "source": [
    "len(df_savings3['inc'])- len(df_savings3['inc'][outlier_upper])"
   ]
  },
  {
   "cell_type": "code",
   "execution_count": 44,
   "id": "b985c80e",
   "metadata": {},
   "outputs": [],
   "source": [
    "data_savings = df_savings3[-(outlier_upper)]"
   ]
  },
  {
   "cell_type": "code",
   "execution_count": 45,
   "id": "6972a7c6",
   "metadata": {},
   "outputs": [
    {
     "data": {
      "text/plain": [
       "(93, 7)"
      ]
     },
     "execution_count": 45,
     "metadata": {},
     "output_type": "execute_result"
    }
   ],
   "source": [
    "data_savings.shape"
   ]
  },
  {
   "cell_type": "code",
   "execution_count": 46,
   "id": "eeee4548",
   "metadata": {},
   "outputs": [
    {
     "data": {
      "text/plain": [
       "6     26007\n",
       "35    30996\n",
       "44    24226\n",
       "80    30610\n",
       "95    32080\n",
       "Name: inc, dtype: int64"
      ]
     },
     "execution_count": 46,
     "metadata": {},
     "output_type": "execute_result"
    }
   ],
   "source": [
    "df_savings3['inc'][outlier_upper]"
   ]
  },
  {
   "cell_type": "code",
   "execution_count": 47,
   "id": "92819d3c",
   "metadata": {},
   "outputs": [
    {
     "data": {
      "text/plain": [
       "<AxesSubplot:xlabel='inc'>"
      ]
     },
     "execution_count": 47,
     "metadata": {},
     "output_type": "execute_result"
    },
    {
     "data": {
      "image/png": "[encoded data removed]",
      "text/plain": [
       "<Figure size 640x480 with 1 Axes>"
      ]
     },
     "metadata": {},
     "output_type": "display_data"
    }
   ],
   "source": [
    "#visualising the data without outliers\n",
    "sns.boxplot(data=data_savings, x='inc')"
   ]
  },
  {
   "cell_type": "code",
   "execution_count": 48,
   "id": "4e8063e7",
   "metadata": {},
   "outputs": [
    {
     "data": {
      "text/plain": [
       "<seaborn.axisgrid.FacetGrid at 0x1f4225c85e0>"
      ]
     },
     "execution_count": 48,
     "metadata": {},
     "output_type": "execute_result"
    },
    {
     "data": {
      "image/png": "[encoded data removed]",
      "text/plain": [
       "<Figure size 500x500 with 1 Axes>"
      ]
     },
     "metadata": {},
     "output_type": "display_data"
    }
   ],
   "source": [
    "sns.displot(data=data_savings, x='inc', kde=False)"
   ]
  },
  {
   "cell_type": "code",
   "execution_count": 49,
   "id": "2a4ddabf",
   "metadata": {},
   "outputs": [
    {
     "data": {
      "text/plain": [
       "<AxesSubplot:xlabel='inc', ylabel='sav'>"
      ]
     },
     "execution_count": 49,
     "metadata": {},
     "output_type": "execute_result"
    },
    {
     "data": {
      "image/png": "[encoded data removed]",
      "text/plain": [
       "<Figure size 640x480 with 1 Axes>"
      ]
     },
     "metadata": {},
     "output_type": "display_data"
    }
   ],
   "source": [
    "sns.scatterplot(data=data_savings, x=\"inc\", y=\"sav\", hue=\"black\")"
   ]
  },
  {
   "cell_type": "code",
   "execution_count": 50,
   "id": "8e359a9e",
   "metadata": {},
   "outputs": [],
   "source": [
    "#The scattered plot visualisation above showed the following:\n",
    "   # The people that earned more didnt save more infact majority of the high income earners had high negative savings value i.e they are in debt\n",
    "   # Race has no impact on Income neither does it has any impact on savings , the saving cuture of either black is the same with those of other race within the same income bracket"
   ]
  },
  {
   "cell_type": "markdown",
   "id": "cbe99a22",
   "metadata": {},
   "source": [
    "The Analysis below will be answering the following questions\n",
    "   \n",
    "    1.Does Educational level influence how much people earn and how they save "
   ]
  },
  {
   "cell_type": "code",
   "execution_count": 51,
   "id": "89ea7211",
   "metadata": {},
   "outputs": [
    {
     "data": {
      "text/plain": [
       "<AxesSubplot:xlabel='inc', ylabel='sav'>"
      ]
     },
     "execution_count": 51,
     "metadata": {},
     "output_type": "execute_result"
    },
    {
     "data": {
      "image/png": "[encoded data removed]",
      "text/plain": [
       "<Figure size 640x480 with 1 Axes>"
      ]
     },
     "metadata": {},
     "output_type": "display_data"
    }
   ],
   "source": [
    "sns.scatterplot(data=data_savings, x=\"inc\", y=\"sav\", hue=\"educ\")"
   ]
  },
  {
   "cell_type": "markdown",
   "id": "1c2f8d28",
   "metadata": {},
   "source": [
    "\n",
    "The scattered plot aboved showed level of education as no impact on income and also has no impact on savings,The highest earner had an educational level of up to 12 earned more than those that has educational level of 18\n",
    "\n",
    "2. the people that earned between 0-10000 saves around the same amount (0-6000) annually , people that earned from 10000-20000 had savings between(-6000 to 5000)\n",
    "\n"
   ]
  },
  {
   "cell_type": "code",
   "execution_count": 59,
   "id": "4720c938",
   "metadata": {},
   "outputs": [
    {
     "data": {
      "text/plain": [
       "<seaborn.axisgrid.FacetGrid at 0x1f4200ad550>"
      ]
     },
     "execution_count": 59,
     "metadata": {},
     "output_type": "execute_result"
    },
    {
     "data": {
      "image/png": "[encoded data removed]",
      "text/plain": [
       "<Figure size 500x500 with 1 Axes>"
      ]
     },
     "metadata": {},
     "output_type": "display_data"
    }
   ],
   "source": [
    "#Does family Size influence saving culture\n",
    "sns.displot(data=df_savings1, x='size', kde=False)"
   ]
  },
  {
   "cell_type": "code",
   "execution_count": 58,
   "id": "57fbfb67",
   "metadata": {},
   "outputs": [
    {
     "data": {
      "image/png": "[encoded data removed]",
      "text/plain": [
       "<Figure size 700x500 with 1 Axes>"
      ]
     },
     "metadata": {},
     "output_type": "display_data"
    }
   ],
   "source": [
    "# Does family Size influence saving culture\n",
    "\n",
    "sns.set_style(\"ticks\",{'axes.grid' : False})\n",
    "\n",
    "figure, axes = plt.subplots(figsize=(7, 5))\n",
    "\n",
    "sns.barplot(x=\"size\", y=\"sav\", data=data_savings, ci=0)\n",
    "\n",
    "axes.grid(visible=True, which=\"both\", axis=\"y\")\n",
    "axes.set_axisbelow(True)"
   ]
  },
  {
   "cell_type": "code",
   "execution_count": null,
   "id": "797f346b",
   "metadata": {},
   "outputs": [],
   "source": [
    "#the barplot showed family size of 3-4 had more savings  than other family size, family size between 8-10 had one entry each  as stated by the distribution plot,although the family with 9 size saved more it cannot be used to justify that family with larger sizes has more savings"
   ]
  }
 ],
 "metadata": {
  "kernelspec": {
   "display_name": "Python 3 (ipykernel)",
   "language": "python",
   "name": "python3"
  },
  "language_info": {
   "codemirror_mode": {
    "name": "ipython",
    "version": 3
   },
   "file_extension": ".py",
   "mimetype": "text/x-python",
   "name": "python",
   "nbconvert_exporter": "python",
   "pygments_lexer": "ipython3",
   "version": "3.9.13"
  }
 },
 "nbformat": 4,
 "nbformat_minor": 5
}
